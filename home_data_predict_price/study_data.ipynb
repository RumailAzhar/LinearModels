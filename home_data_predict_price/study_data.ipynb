{
 "cells": [
  {
   "cell_type": "code",
   "execution_count": 191,
   "id": "fa211da6",
   "metadata": {},
   "outputs": [],
   "source": [
    "import pandas as pd\n",
    "pd.set_option('display.max_rows', 1000)\n",
    "pd.set_option('display.max_columns', 1000)"
   ]
  },
  {
   "cell_type": "code",
   "execution_count": 192,
   "id": "dec62384",
   "metadata": {},
   "outputs": [],
   "source": [
    "# cleaning data\n",
    "df = pd.read_csv('data/test.csv', index_col='Id')\n",
    "df['YearsSince2006'] = df['YrSold'] + ((df['MoSold'] - 1) / 12) - 2006\n",
    "df=df.drop(['GarageType',\t'GarageYrBlt',\t'GarageFinish', 'GarageQual',\t'GarageCond', 'MasVnrType','BsmtFinType1','BsmtFinSF1',\n",
    "            'BsmtFinSF2','BsmtFinType2','YrSold','MoSold'],axis=1)\n",
    "df['LotFrontage'] = df['LotFrontage'].fillna(0)\n",
    "df['MasVnrArea'] = df['MasVnrArea'].fillna(0)\n",
    "df.fillna('NA', inplace=True)\n",
    "df['MSSubClass'] = df['MSSubClass'].astype(str)\n",
    "df[df.select_dtypes(include='int').columns] = df.select_dtypes(include='int').astype(float)\n",
    "df.to_csv('data/test_clean.csv', index=False)\n"
   ]
  },
  {
   "cell_type": "code",
   "execution_count": null,
   "id": "43a54a12",
   "metadata": {},
   "outputs": [],
   "source": []
  },
  {
   "cell_type": "code",
   "execution_count": null,
   "id": "e1ff4ec3",
   "metadata": {},
   "outputs": [],
   "source": []
  },
  {
   "cell_type": "code",
   "execution_count": 171,
   "id": "073a1335",
   "metadata": {},
   "outputs": [
    {
     "data": {
      "text/plain": [
       "Id\n",
       "1       2.083333\n",
       "2       1.333333\n",
       "3       2.666667\n",
       "4       0.083333\n",
       "5       2.916667\n",
       "          ...   \n",
       "1456    1.583333\n",
       "1457    4.083333\n",
       "1458    4.333333\n",
       "1459    4.250000\n",
       "1460    2.416667\n",
       "Name: YearsSince2006, Length: 1460, dtype: float64"
      ]
     },
     "execution_count": 171,
     "metadata": {},
     "output_type": "execute_result"
    }
   ],
   "source": [
    "df['YearsSince2006']"
   ]
  },
  {
   "cell_type": "code",
   "execution_count": null,
   "id": "83dd4b34",
   "metadata": {},
   "outputs": [],
   "source": []
  }
 ],
 "metadata": {
  "kernelspec": {
   "display_name": "Python 3",
   "language": "python",
   "name": "python3"
  },
  "language_info": {
   "codemirror_mode": {
    "name": "ipython",
    "version": 3
   },
   "file_extension": ".py",
   "mimetype": "text/x-python",
   "name": "python",
   "nbconvert_exporter": "python",
   "pygments_lexer": "ipython3",
   "version": "3.10.5"
  }
 },
 "nbformat": 4,
 "nbformat_minor": 5
}
